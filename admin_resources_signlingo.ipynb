{
  "nbformat": 4,
  "nbformat_minor": 0,
  "metadata": {
    "colab": {
      "name": "admin_resources_signlingo.ipynb",
      "provenance": []
    },
    "kernelspec": {
      "name": "python3",
      "display_name": "Python 3"
    }
  },
  "cells": [
    {
      "cell_type": "markdown",
      "metadata": {
        "id": "7Y36yL6wUTIY",
        "colab_type": "text"
      },
      "source": [
        "## Administrative Learning Resources I consulted during SignLingo Build\n",
        "\n",
        "#### Stage vs Production Environment\n",
        "-  Read [this](https://dev.to/flippedcoding/difference-between-development-stage-and-production-d0p)\n",
        "- Development - on your computer, commits & branches live here, usually connected to dummy data (nothing here could affect what users see when they pull up the website)\n",
        "- Staging - similar to development - all of the code on a server instead of local machine, database migrations, version updates, & configuration changes\n",
        "- Production (new system, more code) - where users access the final code after all of the updates and testing (some people do roll outs, to handle load etc) "
      ]
    }
  ]
}